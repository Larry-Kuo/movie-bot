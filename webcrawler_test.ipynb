{
 "cells": [
  {
   "cell_type": "code",
   "execution_count": 1,
   "metadata": {},
   "outputs": [],
   "source": [
    "widths = [\n",
    "        (126,    1), (159,    0), (687,     1), (710,   0), (711,   1),\n",
    "        (727,    0), (733,    1), (879,     0), (1154,  1), (1161,  0),\n",
    "        (4347,   1), (4447,   2), (7467,    1), (7521,  0), (8369,  1),\n",
    "        (8426,   0), (9000,   1), (9002,    2), (11021, 1), (12350, 2),\n",
    "        (12351,  1), (12438,  2), (12442,   0), (19893, 2), (19967, 1),\n",
    "        (55203,  2), (63743,  1), (64106,   2), (65039, 1), (65059, 0),\n",
    "        (65131,  2), (65279,  1), (65376,   2), (65500, 1), (65510, 2),\n",
    "        (120831, 1), (262141, 2), (1114109, 1),\n",
    "]\n",
    "\n",
    "\n",
    "def calc_len(string):\n",
    "    def chr_width(o):\n",
    "        global widths\n",
    "        if o == 0xe or o == 0xf:\n",
    "            return 0\n",
    "        for num, wid in widths:\n",
    "            if o <= num:\n",
    "                return wid\n",
    "        return 1\n",
    "    return sum(chr_width(ord(c)) for c in string)\n",
    "\n",
    "\n",
    "def pretty_print(push, title, date, author):\n",
    "    pattern = '%3s\\t%s%s%s\\t%s'\n",
    "    padding = ' ' * (50 - calc_len(title))\n",
    "    print(pattern % (push, title, padding, date, author))"
   ]
  },
  {
   "cell_type": "code",
   "execution_count": 20,
   "metadata": {},
   "outputs": [
    {
     "name": "stdout",
     "output_type": "stream",
     "text": [
      "  7\t[請益] 鋒迴路轉問題，有雷慎入                     11/30\tjim2012\n",
      " 16\t[選片] 賽道狂人 鋒迴路轉 選片～～                 11/30\tx5533007\n",
      "  9\t[選片] 瓶中信 or 鋒迴路轉                         11/30\tKKKKKvs333\n",
      " 14\t[選片] 鋒迴路轉/82年的金智英/賽道狂人             11/30\tf40075566\n",
      " 22\t[新聞] 《鋒迴路轉》全美票房超預期暴走 導演爆      11/30\tLAMessi\n",
      "  3\t[爽雷] 鋒迴路轉，好的推理故事不用燒腦             11/30\tlinhsiuwei\n",
      "  1\t[好雷]《鋒迴路轉》推理的好才是王道                11/30\tallshine\n",
      " 19\t[選片] 鋒迴路轉/布魯克林孤兒/夕霧花園             11/30\tjason748\n",
      " 14\t[請益] 鋒迴路轉問題，極有雷慎入                   11/30\tcreepygirl\n",
      " 20\t[新聞] 導演想把《鋒迴路轉》拍成系列電影           11/29\thahaha0204\n",
      " 26\t[好雷] 鋒迴路轉                                   11/29\tkellykelly\n",
      " 30\t[選片] 賽道狂人/鋒迴路轉 選片請益                 11/29\tjerry9233\n",
      " 12\t[好雷] 《鋒迴路轉》無雷感想 (推文有雷)            11/29\tAquaX\n",
      " 13\t[好無雷] 鋒迴路轉 意外的簡單有趣                  11/29\tkyo2003\n",
      " 10\t[好雷] 鋒迴路轉 出乎意料好看                      11/28\tWHeisenberg\n",
      "  2\t[好雷] 鋒迴路轉-八點檔式的推理小說                11/27\tblueskymaple\n",
      "  8\t[好雷] <鋒迴路轉> 真的峰迴路轉                    11/27\tsandy7521\n",
      " 17\t[新聞] 克里斯伊凡《鋒迴路轉》燒腦爆好評 還沒上映網已敲碗：快拍10/26\tkenny1300175\n"
     ]
    }
   ],
   "source": [
    "# coding=utf-8\n",
    "import requests\n",
    "from requests_html import HTML\n",
    "def fetch(url):\n",
    "    response = requests.get(url)\n",
    "    response = requests.get(url, cookies={'over18': '1'})  # 一直向 server 回答滿 18 歲了 !\n",
    "    return response\n",
    "\n",
    "def parse_article_entries(doc):\n",
    "    html = HTML(html=doc)\n",
    "    post_entries = html.find('div.r-ent')\n",
    "    return post_entries\n",
    "def parse_article_meta(ent):\n",
    "    ''' Step-3 (revised): parse the metadata in article entry '''\n",
    "    # 基本要素都還在\n",
    "    meta = {\n",
    "        'title': ent.find('div.title', first=True).text,\n",
    "        'push': ent.find('div.nrec', first=True).text,\n",
    "        'date': ent.find('div.date', first=True).text,\n",
    "    }\n",
    "\n",
    "    try:\n",
    "        # 正常狀況取得資料\n",
    "        meta['author'] = ent.find('div.author', first=True).text\n",
    "        meta['link'] = ent.find('div.title > a', first=True).attrs['href']\n",
    "    except AttributeError:\n",
    "        # 但碰上文章被刪除時，就沒有辦法像原本的方法取得 作者 跟 連結\n",
    "        if '(本文已被刪除)' in meta['title']:\n",
    "            # e.g., \"(本文已被刪除) [haudai]\"\n",
    "            match_author = re.search('\\[(\\w*)\\]', meta['title'])\n",
    "            if match_author:\n",
    "                meta['author'] = match_author.group(1)\n",
    "        elif re.search('已被\\w*刪除', meta['title']):\n",
    "            # e.g., \"(已被cappa刪除) <edisonchu> op\"\n",
    "            match_author = re.search('\\<(\\w*)\\>', meta['title'])\n",
    "            if match_author:\n",
    "                meta['author'] = match_author.group(1)\n",
    "    return meta\n",
    "\n",
    "    # 最終仍回傳統一的 dict() 形式 paired data\n",
    "    return meta\n",
    "search_endpoint_url = 'https://www.ptt.cc/bbs/movie/search'\n",
    "resp = requests.get(search_endpoint_url, params={'q': '鋒迴路轉', 'page' : 4})\n",
    "\n",
    "post_entries = parse_article_entries(resp.text)  # [沿用]\n",
    "metadata = [parse_article_meta(entry) for entry in post_entries]  # [沿用]\n",
    "\n",
    "for entry in post_entries:\n",
    "    meta = parse_article_meta(entry)\n",
    "#     print(meta)  # result of setp-3\n",
    "\n",
    "    pretty_print(meta['push'], meta['title'], meta['date'], meta['author'])  # for below results"
   ]
  },
  {
   "cell_type": "code",
   "execution_count": null,
   "metadata": {},
   "outputs": [],
   "source": [
    "from multiprocessing import Pool"
   ]
  }
 ],
 "metadata": {
  "kernelspec": {
   "display_name": "Python 3",
   "language": "python",
   "name": "python3"
  },
  "language_info": {
   "codemirror_mode": {
    "name": "ipython",
    "version": 3
   },
   "file_extension": ".py",
   "mimetype": "text/x-python",
   "name": "python",
   "nbconvert_exporter": "python",
   "pygments_lexer": "ipython3",
   "version": "3.8.5"
  }
 },
 "nbformat": 4,
 "nbformat_minor": 4
}
